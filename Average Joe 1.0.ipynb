{
 "metadata": {
  "language_info": {
   "codemirror_mode": {
    "name": "ipython",
    "version": 3
   },
   "file_extension": ".py",
   "mimetype": "text/x-python",
   "name": "python",
   "nbconvert_exporter": "python",
   "pygments_lexer": "ipython3",
   "version": "3.7.3"
  },
  "orig_nbformat": 2,
  "kernelspec": {
   "name": "python3",
   "display_name": "Python 3.7.3 64-bit ('base': conda)",
   "metadata": {
    "interpreter": {
     "hash": "b3ba2566441a7c06988d0923437866b63cedc61552a5af99d1f4fb67d367b25f"
    }
   }
  }
 },
 "nbformat": 4,
 "nbformat_minor": 2,
 "cells": [
  {
   "source": [
    "# Average Joe\n",
    "\n",
    "The program to average all the MIR-spectra in a folder"
   ],
   "cell_type": "markdown",
   "metadata": {}
  },
  {
   "source": [
    "First we load the libraries we will need"
   ],
   "cell_type": "markdown",
   "metadata": {}
  },
  {
   "cell_type": "code",
   "execution_count": null,
   "metadata": {},
   "outputs": [],
   "source": [
    "# This will be necessary\n",
    "import numpy as np\n",
    "\n",
    "# With this we will plot the figures\n",
    "import matplotlib.pyplot as plt \n",
    "import matplotlib.dates as mdates\n",
    "\n",
    "# This library will help us with the differente SO\n",
    "from pathlib import Path \n",
    "\n",
    "# to decompress the mzz files\n",
    "import zipfile \n",
    "import zlib\n",
    "\n",
    "# Always useful knowing how much is left\n",
    "from tqdm import tqdm\n",
    "\n",
    "# to export a file with the averaged spectrum\n",
    "import csv \n",
    "\n",
    "\n"
   ]
  },
  {
   "source": [
    "Now we declare the folder where the spectra to average are (they can be .dpt or .mzz files)"
   ],
   "cell_type": "markdown",
   "metadata": {}
  },
  {
   "cell_type": "code",
   "execution_count": null,
   "metadata": {},
   "outputs": [],
   "source": [
    "spectra_path = input(\"Please, indicate the folder location: \")"
   ]
  },
  {
   "source": [
    "Now the algorithm works"
   ],
   "cell_type": "markdown",
   "metadata": {}
  },
  {
   "cell_type": "code",
   "execution_count": null,
   "metadata": {},
   "outputs": [],
   "source": [
    "# This part is copied from loco mosquito\n",
    "#  we include the path module that helps a lot with the / or \\ problem\n",
    "spectra_path = Path(spectra_path)\n",
    "# find all the .mzz and .dpt files in the folder (and its subfolders)\n",
    "dptfiles = []\n",
    "mzzfiles = []\n",
    "for root, dirs, files in os.walk(spectra_path):\n",
    "    for file in files:\n",
    "        if file.endswith(\".dpt\"):\n",
    "             dptfiles.append(Path(root) / Path(file))\n",
    "        elif file.endswith(\".mzz\"):\n",
    "             mzzfiles.append(Path(root) / Path(file))\n",
    "             \n",
    "# If there are *.mzz files, we will not consider the *.dpt files\n",
    "if len(mzzfiles) > 0:\n",
    "    spectra_names = mzzfiles\n",
    "else:\n",
    "    spectra_names = dptfiles\n",
    "\n",
    "# We define now a function to extract easily the info from the files:\n",
    "def extractineitor(filename):\n",
    "    # If the file has an dpt extension:\n",
    "    if str(filename)[-1] == \"t\":\n",
    "        # Read it\n",
    "        with open(filename, 'rb') as tmp:\n",
    "            avmi = (line.replace(b'\\t',b',') for line in tmp)\n",
    "            spectrum = np.genfromtxt(avmi, delimiter=',')\n",
    "        # And extract first and last wavenumbers and also the resolution and the absorbance data\n",
    "        start = min(spectrum[0,0],spectrum[-1,0])\n",
    "        end = max(spectrum[0,0],spectrum[-1,0])\n",
    "        ls = len(spectrum)\n",
    "        if spectrum[0,0] > spectrum[-1,0]:\n",
    "            spectrum = np.flip(np.transpose(spectrum)[1])\n",
    "        else:\n",
    "            spectrum = np.transpose(spectrum)[1]\n",
    "\n",
    "    # If not it is a mzz file   \n",
    "    else:\n",
    "        with zipfile.ZipFile(filename) as myzip:\n",
    "            tmpname = myzip.namelist()[0]\n",
    "            with myzip.open(tmpname) as myfile:\n",
    "                spectrum = np.genfromtxt(myfile, delimiter=',')\n",
    "        start = min(spectrum[0],spectrum[1])\n",
    "        end = max(spectrum[0],spectrum[1])\n",
    "        ls = int(spectrum[2])\n",
    "        if spectrum[0] > spectrum[1]:\n",
    "            spectrum = np.flip(spectrum[3:])\n",
    "        else:\n",
    "            spectrum = spectrum[3:]\n",
    "    \n",
    "    # Either way, return the good info from the file\n",
    "    return [start,end,ls,spectrum]"
   ]
  },
  {
   "cell_type": "code",
   "execution_count": null,
   "metadata": {},
   "outputs": [],
   "source": [
    "# Now we average the spectra.\n",
    "# We are going to use the first spectrum as reference:\n",
    "# Number of spectra:\n",
    "ns = 1\n",
    "# First wavenumber, last wavenumber, resolution, spectrum:\n",
    "[fw,lw,res,spc] = extractineitor(spectra_names[0])\n",
    "\n",
    "# Now the algorithm to average the spectra:\n",
    "for i in tqdm(range(1,len(spectra_names))):\n",
    "    # First, we extract the info from the opened file:\n",
    "    [tfw,tlw,tres,tspc] = extractineitor(spectra_names[i])\n",
    "\n",
    "    # If the parameters are the same we just add the new spectrum:\n",
    "    if [tfw,tlw,tres] == [fw,lw,res]:\n",
    "        ns += 1\n",
    "        spc = spc + tspc\n",
    "    # If the parameters are different, we have to adapt to the poorest spectrum\n",
    "    else:\n",
    "        # Which one is better?\n",
    "        if fw < tfw or lw > tlw or res > tres:\n",
    "            # If the previous spectra are better...\n",
    "            tmp = []\n",
    "            for j in np.arange(tfw,tlw,(tlw-tfw)/tres):\n",
    "                tmp.append(np.interp(j,np.arange(fw,lw,(lw-fw)/res),spc))\n",
    "            spc = np.array(tmp)\n",
    "            spc = spc + tspc\n",
    "            ns += 1\n",
    "            fw = tfw\n",
    "            lw = tlw\n",
    "            res = tres\n",
    "        else:\n",
    "            tmp = []\n",
    "            for j in np.arange(fw,lw,(lw-fw)/res):\n",
    "                tmp.append(np.interp(j,np.arange(tfw,tlw,(tlw-tfw)/tres),tspc))\n",
    "            tspc = np.array(tmp)\n",
    "            spc = spc + tspc\n",
    "            ns += 1\n",
    "# And promediate\n",
    "spc = spc / ns\n",
    "\n",
    "\n"
   ]
  },
  {
   "cell_type": "code",
   "execution_count": null,
   "metadata": {},
   "outputs": [],
   "source": [
    "# we draw the plot\n",
    "plt.figure(figsize=(14,7))\n",
    "plt.plot(np.arange(lw,fw,-(lw-fw)/res),np.flip(spc))\n",
    "plt.xlabel(\"wavenumber / cm-1\")\n",
    "plt.ylabel(\"Absorbance\")\n",
    "\n",
    "fig1 = plt.gcf()\n",
    "\n",
    "plt.show()"
   ]
  },
  {
   "source": [
    "Now if we want, we can export the results as a datapoint table and an image"
   ],
   "cell_type": "markdown",
   "metadata": {}
  },
  {
   "cell_type": "code",
   "execution_count": null,
   "metadata": {},
   "outputs": [],
   "source": [
    "# Figure\n",
    "\n",
    "fig1.savefig(spectra_path / Path(\"spectrum.png\"), dpi=150)\n",
    "\n",
    "# File\n",
    "with open(spectra_path / Path(\"averaged_spectrum.dat\"), 'w', newline='') as file:\n",
    "    sc = csv.writer(file, delimiter='\\t')\n",
    "    for i in np.transpose([np.arange(lw,fw,-(lw-fw)/res),np.flip(spc)]):\n",
    "            sc.writerow(i)\n"
   ]
  }
 ]
}